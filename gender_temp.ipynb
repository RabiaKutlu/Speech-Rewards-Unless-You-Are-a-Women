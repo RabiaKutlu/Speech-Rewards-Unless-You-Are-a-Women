{
 "cells": [
  {
   "cell_type": "code",
   "execution_count": 1,
   "id": "3a80a859-6c98-46ae-8ea3-c26b03000736",
   "metadata": {},
   "outputs": [],
   "source": [
    "import pandas as pd"
   ]
  },
  {
   "cell_type": "code",
   "execution_count": 2,
   "id": "3db3908b-3889-4344-a82b-53890485aaa5",
   "metadata": {},
   "outputs": [],
   "source": [
    "k = pd.read_csv(\"tr_isim_kadin.csv\", encoding=\"utf-8\")\n",
    "kadin_dict = {k[\"[isim]\"]:k[\"[sayi]\"]for idx, k in k.iterrows()}"
   ]
  },
  {
   "cell_type": "code",
   "execution_count": 3,
   "id": "e625192d-90fa-4f98-bc24-1a31e3d54530",
   "metadata": {},
   "outputs": [
    {
     "name": "stderr",
     "output_type": "stream",
     "text": [
      "b'Skipping line 84071: expected 2 fields, saw 3\\nSkipping line 89788: expected 2 fields, saw 3\\nSkipping line 90824: expected 2 fields, saw 3\\n'\n"
     ]
    }
   ],
   "source": [
    "k = pd.read_csv(\"tr_isim_erkek.csv\", encoding=\"utf-8\", error_bad_lines=False)\n",
    "erkek_dict = {k[\"[isim]\"]:k[\"[sayi]\"]for idx, k in k.iterrows()}"
   ]
  },
  {
   "cell_type": "code",
   "execution_count": 6,
   "id": "23a177cb-a986-4a94-be6a-f237bd22c058",
   "metadata": {},
   "outputs": [
    {
     "name": "stdout",
     "output_type": "stream",
     "text": [
      "['Unnamed: 0' 'merger' 'Sessions.with.speech' 'Sentence.Spoken'\n",
      " 'Word.Spoken' 'FULL_NAME' 'Name' 'Legislative Term' 'List Position'\n",
      " 'Elected' 'Education Level' 'Change in List Position' 'Constituency'\n",
      " 'Gender' 'Magnitude' 'Vulnerability' 'merge' 'ADI']\n"
     ]
    }
   ],
   "source": [
    "df = pd.read_csv(\"final_data3.csv\")\n",
    "print(df.columns.values)"
   ]
  },
  {
   "cell_type": "code",
   "execution_count": 9,
   "id": "62ae1d1b-08a7-4328-8717-9f9aae40e3ac",
   "metadata": {},
   "outputs": [
    {
     "ename": "NameError",
     "evalue": "name 'i' is not defined",
     "output_type": "error",
     "traceback": [
      "\u001b[0;31m---------------------------------------------------------------------------\u001b[0m",
      "\u001b[0;31mNameError\u001b[0m                                 Traceback (most recent call last)",
      "\u001b[0;32m<ipython-input-9-de7c2d181d6f>\u001b[0m in \u001b[0;36m<module>\u001b[0;34m\u001b[0m\n\u001b[0;32m----> 1\u001b[0;31m \u001b[0mpersons\u001b[0m \u001b[0;34m=\u001b[0m \u001b[0mdf\u001b[0m\u001b[0;34m.\u001b[0m\u001b[0mADI\u001b[0m\u001b[0;34m[\u001b[0m\u001b[0mi\u001b[0m\u001b[0;34m]\u001b[0m\u001b[0;34m\u001b[0m\u001b[0;34m\u001b[0m\u001b[0m\n\u001b[0m",
      "\u001b[0;31mNameError\u001b[0m: name 'i' is not defined"
     ]
    }
   ],
   "source": [
    "persons = df.ADI[i]"
   ]
  },
  {
   "cell_type": "code",
   "execution_count": 26,
   "id": "2564a3df-955b-4107-a66f-00e3cb66130d",
   "metadata": {},
   "outputs": [
    {
     "data": {
      "text/plain": [
       "28267"
      ]
     },
     "execution_count": 26,
     "metadata": {},
     "output_type": "execute_result"
    }
   ],
   "source": [
    "len(persons)"
   ]
  },
  {
   "cell_type": "code",
   "execution_count": 27,
   "id": "b215f7cb-591b-42a1-80ab-fb278dbebe9d",
   "metadata": {},
   "outputs": [],
   "source": [
    "genders = []\n",
    "for names in persons:\n",
    "    is_added = False\n",
    "    for name in names:\n",
    "        if name in kadin_dict and name in erkek_dict:\n",
    "            if kadin_dict[name] > erkek_dict[name]:\n",
    "                genders.append(\"female\")\n",
    "            else:\n",
    "                genders.append(\"male\")\n",
    "            is_added = True\n",
    "        else:\n",
    "            if name in kadin_dict:\n",
    "                genders.append(\"female\")\n",
    "                is_added = True\n",
    "            if name in erkek_dict:\n",
    "                genders.append(\"male\")\n",
    "                is_added = True\n",
    "        if is_added:\n",
    "            break\n",
    "    if not is_added:\n",
    "        genders.append(\"not known\")\n",
    "            "
   ]
  },
  {
   "cell_type": "code",
   "execution_count": 28,
   "id": "152211e4-2fb8-4efe-8d7f-6bf22b84ee19",
   "metadata": {},
   "outputs": [],
   "source": [
    "df[\"genders\"] = genders"
   ]
  },
  {
   "cell_type": "code",
   "execution_count": 30,
   "id": "8cf47cb2-18bc-45fa-bcae-9f3fa9d21fd7",
   "metadata": {},
   "outputs": [],
   "source": [
    "df.to_csv(\"ALL_ADAYLAR_ÖMER_genders.csv\")\n"
   ]
  },
  {
   "cell_type": "code",
   "execution_count": null,
   "id": "d4686267-99ff-46d2-8a16-441e0dc5bd74",
   "metadata": {},
   "outputs": [],
   "source": []
  }
 ],
 "metadata": {
  "kernelspec": {
   "display_name": "Python 3",
   "language": "python",
   "name": "python3"
  },
  "language_info": {
   "codemirror_mode": {
    "name": "ipython",
    "version": 3
   },
   "file_extension": ".py",
   "mimetype": "text/x-python",
   "name": "python",
   "nbconvert_exporter": "python",
   "pygments_lexer": "ipython3",
   "version": "3.8.8"
  }
 },
 "nbformat": 4,
 "nbformat_minor": 5
}
